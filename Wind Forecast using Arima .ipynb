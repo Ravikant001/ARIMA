{
 "cells": [
  {
   "cell_type": "code",
   "execution_count": 1,
   "id": "64b7b27d",
   "metadata": {},
   "outputs": [],
   "source": [
    "#Importing of libraries\n",
    "\n",
    "import pandas as pd\n",
    "import numpy as np\n",
    "import seaborn as sns\n",
    "import matplotlib.pyplot as plt\n",
    "import warnings\n",
    "warnings.filterwarnings(\"ignore\")\n",
    "from statsmodels.tsa.stattools import adfuller\n",
    "from pmdarima import auto_arima\n",
    "from statsmodels.tsa.arima_model import ARIMA \n",
    "from statsmodels.tsa.arima_process import ArmaProcess\n",
    "from statsmodels.graphics.tsaplots import plot_pacf\n",
    "from statsmodels.graphics.tsaplots import plot_acf\n",
    "import statsmodels.api as sm\n",
    "from statsmodels.tsa.seasonal import seasonal_decompose\n",
    "from datetime import time\n",
    "from statistics import variance\n",
    "import statistics"
   ]
  },
  {
   "cell_type": "code",
   "execution_count": 2,
   "id": "dc244b22",
   "metadata": {},
   "outputs": [
    {
     "data": {
      "text/html": [
       "<div>\n",
       "<style scoped>\n",
       "    .dataframe tbody tr th:only-of-type {\n",
       "        vertical-align: middle;\n",
       "    }\n",
       "\n",
       "    .dataframe tbody tr th {\n",
       "        vertical-align: top;\n",
       "    }\n",
       "\n",
       "    .dataframe thead th {\n",
       "        text-align: right;\n",
       "    }\n",
       "</style>\n",
       "<table border=\"1\" class=\"dataframe\">\n",
       "  <thead>\n",
       "    <tr style=\"text-align: right;\">\n",
       "      <th></th>\n",
       "      <th>Wspd (m/s)</th>\n",
       "    </tr>\n",
       "  </thead>\n",
       "  <tbody>\n",
       "    <tr>\n",
       "      <th>0</th>\n",
       "      <td>1.78010</td>\n",
       "    </tr>\n",
       "    <tr>\n",
       "      <th>1</th>\n",
       "      <td>1.85681</td>\n",
       "    </tr>\n",
       "    <tr>\n",
       "      <th>2</th>\n",
       "      <td>1.89714</td>\n",
       "    </tr>\n",
       "    <tr>\n",
       "      <th>3</th>\n",
       "      <td>2.02640</td>\n",
       "    </tr>\n",
       "    <tr>\n",
       "      <th>4</th>\n",
       "      <td>2.16909</td>\n",
       "    </tr>\n",
       "    <tr>\n",
       "      <th>...</th>\n",
       "      <td>...</td>\n",
       "    </tr>\n",
       "    <tr>\n",
       "      <th>8755</th>\n",
       "      <td>4.74974</td>\n",
       "    </tr>\n",
       "    <tr>\n",
       "      <th>8756</th>\n",
       "      <td>4.85766</td>\n",
       "    </tr>\n",
       "    <tr>\n",
       "      <th>8757</th>\n",
       "      <td>4.89950</td>\n",
       "    </tr>\n",
       "    <tr>\n",
       "      <th>8758</th>\n",
       "      <td>4.93751</td>\n",
       "    </tr>\n",
       "    <tr>\n",
       "      <th>8759</th>\n",
       "      <td>4.96058</td>\n",
       "    </tr>\n",
       "  </tbody>\n",
       "</table>\n",
       "<p>8760 rows × 1 columns</p>\n",
       "</div>"
      ],
      "text/plain": [
       "      Wspd (m/s)\n",
       "0        1.78010\n",
       "1        1.85681\n",
       "2        1.89714\n",
       "3        2.02640\n",
       "4        2.16909\n",
       "...          ...\n",
       "8755     4.74974\n",
       "8756     4.85766\n",
       "8757     4.89950\n",
       "8758     4.93751\n",
       "8759     4.96058\n",
       "\n",
       "[8760 rows x 1 columns]"
      ]
     },
     "execution_count": 2,
     "metadata": {},
     "output_type": "execute_result"
    }
   ],
   "source": [
    "#Loading of data\n",
    "\n",
    "rwind = pd.read_excel(\"Wind.xlsx\")\n",
    "rwind"
   ]
  },
  {
   "cell_type": "code",
   "execution_count": 3,
   "id": "7bddf25a",
   "metadata": {},
   "outputs": [],
   "source": [
    "# This is the last year data of Wind \n",
    "rwindlastyear = rwind[1:8736]\n",
    "#rwindlastyear"
   ]
  },
  {
   "cell_type": "code",
   "execution_count": 4,
   "id": "18ed9acb",
   "metadata": {},
   "outputs": [
    {
     "name": "stdout",
     "output_type": "stream",
     "text": [
      "Performing stepwise search to minimize aic\n",
      " ARIMA(2,1,2)(0,0,0)[0] intercept   : AIC=-7797.444, Time=21.23 sec\n",
      " ARIMA(0,1,0)(0,0,0)[0] intercept   : AIC=-774.716, Time=2.06 sec\n",
      " ARIMA(1,1,0)(0,0,0)[0] intercept   : AIC=-7009.436, Time=1.23 sec\n",
      " ARIMA(0,1,1)(0,0,0)[0] intercept   : AIC=-6353.894, Time=3.31 sec\n",
      " ARIMA(0,1,0)(0,0,0)[0]             : AIC=-776.694, Time=1.55 sec\n",
      " ARIMA(1,1,2)(0,0,0)[0] intercept   : AIC=-7798.110, Time=8.30 sec\n",
      " ARIMA(0,1,2)(0,0,0)[0] intercept   : AIC=-7436.271, Time=4.44 sec\n",
      " ARIMA(1,1,1)(0,0,0)[0] intercept   : AIC=-7799.702, Time=4.50 sec\n",
      " ARIMA(2,1,1)(0,0,0)[0] intercept   : AIC=-7798.280, Time=8.11 sec\n",
      " ARIMA(2,1,0)(0,0,0)[0] intercept   : AIC=-7689.155, Time=1.70 sec\n",
      " ARIMA(1,1,1)(0,0,0)[0]             : AIC=-7801.696, Time=1.53 sec\n",
      " ARIMA(0,1,1)(0,0,0)[0]             : AIC=-6355.878, Time=1.00 sec\n",
      " ARIMA(1,1,0)(0,0,0)[0]             : AIC=-7011.431, Time=0.39 sec\n",
      " ARIMA(2,1,1)(0,0,0)[0]             : AIC=-7800.274, Time=1.85 sec\n",
      " ARIMA(1,1,2)(0,0,0)[0]             : AIC=-7800.104, Time=2.16 sec\n",
      " ARIMA(0,1,2)(0,0,0)[0]             : AIC=-7438.261, Time=1.61 sec\n",
      " ARIMA(2,1,0)(0,0,0)[0]             : AIC=-7691.148, Time=1.43 sec\n",
      " ARIMA(2,1,2)(0,0,0)[0]             : AIC=-7799.438, Time=6.17 sec\n",
      "\n",
      "Best model:  ARIMA(1,1,1)(0,0,0)[0]          \n",
      "Total fit time: 72.946 seconds\n"
     ]
    },
    {
     "data": {
      "text/html": [
       "<table class=\"simpletable\">\n",
       "<caption>SARIMAX Results</caption>\n",
       "<tr>\n",
       "  <th>Dep. Variable:</th>           <td>y</td>        <th>  No. Observations:  </th>   <td>8760</td>   \n",
       "</tr>\n",
       "<tr>\n",
       "  <th>Model:</th>           <td>SARIMAX(1, 1, 1)</td> <th>  Log Likelihood     </th> <td>3903.848</td> \n",
       "</tr>\n",
       "<tr>\n",
       "  <th>Date:</th>            <td>Sat, 27 Nov 2021</td> <th>  AIC                </th> <td>-7801.696</td>\n",
       "</tr>\n",
       "<tr>\n",
       "  <th>Time:</th>                <td>00:16:53</td>     <th>  BIC                </th> <td>-7780.463</td>\n",
       "</tr>\n",
       "<tr>\n",
       "  <th>Sample:</th>                  <td>0</td>        <th>  HQIC               </th> <td>-7794.461</td>\n",
       "</tr>\n",
       "<tr>\n",
       "  <th></th>                      <td> - 8760</td>     <th>                     </th>     <td> </td>    \n",
       "</tr>\n",
       "<tr>\n",
       "  <th>Covariance Type:</th>        <td>opg</td>       <th>                     </th>     <td> </td>    \n",
       "</tr>\n",
       "</table>\n",
       "<table class=\"simpletable\">\n",
       "<tr>\n",
       "     <td></td>       <th>coef</th>     <th>std err</th>      <th>z</th>      <th>P>|z|</th>  <th>[0.025</th>    <th>0.975]</th>  \n",
       "</tr>\n",
       "<tr>\n",
       "  <th>ar.L1</th>  <td>    0.5255</td> <td>    0.010</td> <td>   53.527</td> <td> 0.000</td> <td>    0.506</td> <td>    0.545</td>\n",
       "</tr>\n",
       "<tr>\n",
       "  <th>ma.L1</th>  <td>    0.4184</td> <td>    0.009</td> <td>   49.180</td> <td> 0.000</td> <td>    0.402</td> <td>    0.435</td>\n",
       "</tr>\n",
       "<tr>\n",
       "  <th>sigma2</th> <td>    0.0240</td> <td>    0.000</td> <td>  116.680</td> <td> 0.000</td> <td>    0.024</td> <td>    0.024</td>\n",
       "</tr>\n",
       "</table>\n",
       "<table class=\"simpletable\">\n",
       "<tr>\n",
       "  <th>Ljung-Box (L1) (Q):</th>     <td>0.02</td> <th>  Jarque-Bera (JB):  </th> <td>22827.97</td>\n",
       "</tr>\n",
       "<tr>\n",
       "  <th>Prob(Q):</th>                <td>0.88</td> <th>  Prob(JB):          </th>   <td>0.00</td>  \n",
       "</tr>\n",
       "<tr>\n",
       "  <th>Heteroskedasticity (H):</th> <td>0.55</td> <th>  Skew:              </th>   <td>0.57</td>  \n",
       "</tr>\n",
       "<tr>\n",
       "  <th>Prob(H) (two-sided):</th>    <td>0.00</td> <th>  Kurtosis:          </th>   <td>10.83</td> \n",
       "</tr>\n",
       "</table><br/><br/>Warnings:<br/>[1] Covariance matrix calculated using the outer product of gradients (complex-step)."
      ],
      "text/plain": [
       "<class 'statsmodels.iolib.summary.Summary'>\n",
       "\"\"\"\n",
       "                               SARIMAX Results                                \n",
       "==============================================================================\n",
       "Dep. Variable:                      y   No. Observations:                 8760\n",
       "Model:               SARIMAX(1, 1, 1)   Log Likelihood                3903.848\n",
       "Date:                Sat, 27 Nov 2021   AIC                          -7801.696\n",
       "Time:                        00:16:53   BIC                          -7780.463\n",
       "Sample:                             0   HQIC                         -7794.461\n",
       "                               - 8760                                         \n",
       "Covariance Type:                  opg                                         \n",
       "==============================================================================\n",
       "                 coef    std err          z      P>|z|      [0.025      0.975]\n",
       "------------------------------------------------------------------------------\n",
       "ar.L1          0.5255      0.010     53.527      0.000       0.506       0.545\n",
       "ma.L1          0.4184      0.009     49.180      0.000       0.402       0.435\n",
       "sigma2         0.0240      0.000    116.680      0.000       0.024       0.024\n",
       "===================================================================================\n",
       "Ljung-Box (L1) (Q):                   0.02   Jarque-Bera (JB):             22827.97\n",
       "Prob(Q):                              0.88   Prob(JB):                         0.00\n",
       "Heteroskedasticity (H):               0.55   Skew:                             0.57\n",
       "Prob(H) (two-sided):                  0.00   Kurtosis:                        10.83\n",
       "===================================================================================\n",
       "\n",
       "Warnings:\n",
       "[1] Covariance matrix calculated using the outer product of gradients (complex-step).\n",
       "\"\"\""
      ]
     },
     "execution_count": 4,
     "metadata": {},
     "output_type": "execute_result"
    }
   ],
   "source": [
    "stepwisefit = auto_arima(rwind['Wspd (m/s)'], trace = True)\n",
    "stepwisefit.summary()"
   ]
  },
  {
   "cell_type": "code",
   "execution_count": 5,
   "id": "20ad5e23",
   "metadata": {},
   "outputs": [
    {
     "name": "stdout",
     "output_type": "stream",
     "text": [
      "(8760, 1)\n",
      "(30, 1) (8730, 1)\n"
     ]
    }
   ],
   "source": [
    "# Now split data into training and testing\n",
    "\n",
    "print(rwind.shape)\n",
    "train = rwind.iloc[:30]\n",
    "test = rwind.iloc[30:]\n",
    "print(train.shape, test.shape)\n"
   ]
  },
  {
   "cell_type": "code",
   "execution_count": 6,
   "id": "6d2cab59",
   "metadata": {},
   "outputs": [
    {
     "name": "stderr",
     "output_type": "stream",
     "text": [
      "C:\\Users\\dell\\anaconda3\\lib\\site-packages\\statsmodels\\base\\model.py:547: HessianInversionWarning: Inverting hessian failed, no bse or cov_params available\n",
      "  warnings.warn('Inverting hessian failed, no bse or cov_params '\n"
     ]
    },
    {
     "data": {
      "text/html": [
       "<table class=\"simpletable\">\n",
       "<caption>ARIMA Model Results</caption>\n",
       "<tr>\n",
       "  <th>Dep. Variable:</th>   <td>D2.Wspd (m/s)</td>  <th>  No. Observations:  </th>   <td>28</td>  \n",
       "</tr>\n",
       "<tr>\n",
       "  <th>Model:</th>          <td>ARIMA(1, 2, 3)</td>  <th>  Log Likelihood     </th>  <td>1.536</td>\n",
       "</tr>\n",
       "<tr>\n",
       "  <th>Method:</th>             <td>css-mle</td>     <th>  S.D. of innovations</th>  <td>0.199</td>\n",
       "</tr>\n",
       "<tr>\n",
       "  <th>Date:</th>          <td>Sat, 27 Nov 2021</td> <th>  AIC                </th>  <td>8.928</td>\n",
       "</tr>\n",
       "<tr>\n",
       "  <th>Time:</th>              <td>00:16:54</td>     <th>  BIC                </th> <td>16.921</td>\n",
       "</tr>\n",
       "<tr>\n",
       "  <th>Sample:</th>                <td>2</td>        <th>  HQIC               </th> <td>11.372</td>\n",
       "</tr>\n",
       "<tr>\n",
       "  <th></th>                       <td> </td>        <th>                     </th>    <td> </td>  \n",
       "</tr>\n",
       "</table>\n",
       "<table class=\"simpletable\">\n",
       "<tr>\n",
       "           <td></td>              <th>coef</th>     <th>std err</th>      <th>z</th>      <th>P>|z|</th>  <th>[0.025</th>    <th>0.975]</th>  \n",
       "</tr>\n",
       "<tr>\n",
       "  <th>const</th>               <td>   -0.0053</td> <td>    0.008</td> <td>   -0.641</td> <td> 0.522</td> <td>   -0.022</td> <td>    0.011</td>\n",
       "</tr>\n",
       "<tr>\n",
       "  <th>ar.L1.D2.Wspd (m/s)</th> <td>   -0.9668</td> <td>    0.043</td> <td>  -22.398</td> <td> 0.000</td> <td>   -1.051</td> <td>   -0.882</td>\n",
       "</tr>\n",
       "<tr>\n",
       "  <th>ma.L1.D2.Wspd (m/s)</th> <td>    0.8882</td> <td>    0.211</td> <td>    4.219</td> <td> 0.000</td> <td>    0.476</td> <td>    1.301</td>\n",
       "</tr>\n",
       "<tr>\n",
       "  <th>ma.L2.D2.Wspd (m/s)</th> <td>   -0.8883</td> <td>    0.206</td> <td>   -4.320</td> <td> 0.000</td> <td>   -1.291</td> <td>   -0.485</td>\n",
       "</tr>\n",
       "<tr>\n",
       "  <th>ma.L3.D2.Wspd (m/s)</th> <td>   -0.9999</td> <td>    0.217</td> <td>   -4.604</td> <td> 0.000</td> <td>   -1.426</td> <td>   -0.574</td>\n",
       "</tr>\n",
       "</table>\n",
       "<table class=\"simpletable\">\n",
       "<caption>Roots</caption>\n",
       "<tr>\n",
       "    <td></td>   <th>            Real</th>  <th>         Imaginary</th> <th>         Modulus</th>  <th>        Frequency</th>\n",
       "</tr>\n",
       "<tr>\n",
       "  <th>AR.1</th> <td>          -1.0343</td> <td>          +0.0000j</td> <td>           1.0343</td> <td>           0.5000</td>\n",
       "</tr>\n",
       "<tr>\n",
       "  <th>MA.1</th> <td>           1.0000</td> <td>          -0.0000j</td> <td>           1.0000</td> <td>          -0.0000</td>\n",
       "</tr>\n",
       "<tr>\n",
       "  <th>MA.2</th> <td>          -0.9442</td> <td>          -0.3296j</td> <td>           1.0001</td> <td>          -0.4466</td>\n",
       "</tr>\n",
       "<tr>\n",
       "  <th>MA.3</th> <td>          -0.9442</td> <td>          +0.3296j</td> <td>           1.0001</td> <td>           0.4466</td>\n",
       "</tr>\n",
       "</table>"
      ],
      "text/plain": [
       "<class 'statsmodels.iolib.summary.Summary'>\n",
       "\"\"\"\n",
       "                             ARIMA Model Results                              \n",
       "==============================================================================\n",
       "Dep. Variable:          D2.Wspd (m/s)   No. Observations:                   28\n",
       "Model:                 ARIMA(1, 2, 3)   Log Likelihood                   1.536\n",
       "Method:                       css-mle   S.D. of innovations              0.199\n",
       "Date:                Sat, 27 Nov 2021   AIC                              8.928\n",
       "Time:                        00:16:54   BIC                             16.921\n",
       "Sample:                             2   HQIC                            11.372\n",
       "                                                                              \n",
       "=======================================================================================\n",
       "                          coef    std err          z      P>|z|      [0.025      0.975]\n",
       "---------------------------------------------------------------------------------------\n",
       "const                  -0.0053      0.008     -0.641      0.522      -0.022       0.011\n",
       "ar.L1.D2.Wspd (m/s)    -0.9668      0.043    -22.398      0.000      -1.051      -0.882\n",
       "ma.L1.D2.Wspd (m/s)     0.8882      0.211      4.219      0.000       0.476       1.301\n",
       "ma.L2.D2.Wspd (m/s)    -0.8883      0.206     -4.320      0.000      -1.291      -0.485\n",
       "ma.L3.D2.Wspd (m/s)    -0.9999      0.217     -4.604      0.000      -1.426      -0.574\n",
       "                                    Roots                                    \n",
       "=============================================================================\n",
       "                  Real          Imaginary           Modulus         Frequency\n",
       "-----------------------------------------------------------------------------\n",
       "AR.1           -1.0343           +0.0000j            1.0343            0.5000\n",
       "MA.1            1.0000           -0.0000j            1.0000           -0.0000\n",
       "MA.2           -0.9442           -0.3296j            1.0001           -0.4466\n",
       "MA.3           -0.9442           +0.3296j            1.0001            0.4466\n",
       "-----------------------------------------------------------------------------\n",
       "\"\"\""
      ]
     },
     "execution_count": 6,
     "metadata": {},
     "output_type": "execute_result"
    }
   ],
   "source": [
    "#Train the model\n",
    "\n",
    "wind_model = ARIMA(train['Wspd (m/s)'], order = (1, 2, 3))\n",
    "wind_model = wind_model.fit()\n",
    "wind_model.summary()"
   ]
  },
  {
   "cell_type": "code",
   "execution_count": 7,
   "id": "d35c9afb",
   "metadata": {},
   "outputs": [
    {
     "name": "stdout",
     "output_type": "stream",
     "text": [
      "30           2.712732\n",
      "31           2.663477\n",
      "32           2.612459\n",
      "33           2.552710\n",
      "34           2.490969\n",
      "            ...      \n",
      "8755   -202328.239756\n",
      "8756   -202374.577195\n",
      "8757   -202420.919940\n",
      "8758   -202467.267990\n",
      "8759   -202513.621345\n",
      "Length: 8730, dtype: float64\n"
     ]
    }
   ],
   "source": [
    "start = len(train)\n",
    "end = len(train) + len(test)-1\n",
    "pred = wind_model.predict(start = start, end = end, typ = 'levels')\n",
    "#pred.index = rwind.index[start:end+1]\n",
    "print(pred)"
   ]
  },
  {
   "cell_type": "code",
   "execution_count": 8,
   "id": "1e812f56",
   "metadata": {},
   "outputs": [
    {
     "data": {
      "image/png": "[encoded data removed]",
      "text/plain": [
       "<Figure size 432x288 with 1 Axes>"
      ]
     },
     "execution_count": 8,
     "metadata": {},
     "output_type": "execute_result"
    },
    {
     "data": {
      "image/png": "[encoded data removed]",
      "text/plain": [
       "<Figure size 432x288 with 1 Axes>"
      ]
     },
     "metadata": {
      "needs_background": "light"
     },
     "output_type": "display_data"
    },
    {
     "data": {
      "image/png": "[encoded data removed]",
      "text/plain": [
       "<Figure size 432x288 with 1 Axes>"
      ]
     },
     "metadata": {
      "needs_background": "light"
     },
     "output_type": "display_data"
    }
   ],
   "source": [
    "plot_pacf(rwind['Wspd (m/s)'])\n",
    "plot_acf(rwind['Wspd (m/s)'])"
   ]
  },
  {
   "cell_type": "code",
   "execution_count": 9,
   "id": "1d76548f",
   "metadata": {},
   "outputs": [],
   "source": [
    "ar_order = np.array([1, 2, 3])\n",
    "ma_order = np.array([1, 2])\n",
    "simulated_wind_model_data = ArmaProcess(ar_order, ma_order).generate_sample(nsample=1000)"
   ]
  },
  {
   "cell_type": "code",
   "execution_count": 10,
   "id": "3e675201",
   "metadata": {},
   "outputs": [
    {
     "data": {
      "image/png": "[encoded data removed]",
      "text/plain": [
       "<Figure size 1080x540 with 1 Axes>"
      ]
     },
     "metadata": {
      "needs_background": "light"
     },
     "output_type": "display_data"
    }
   ],
   "source": [
    "plt.figure(figsize=[15, 7.5]); # Set dimensions for figure\n",
    "plt.plot(simulated_wind_model_data)\n",
    "plt.title(\"Simulated ARMA(1,2) Process\")\n",
    "plt.xlim([0, 200])\n",
    "plt.show()"
   ]
  },
  {
   "cell_type": "code",
   "execution_count": 11,
   "id": "11bbbdd2",
   "metadata": {},
   "outputs": [
    {
     "data": {
      "image/png": "[encoded data removed]",
      "text/plain": [
       "<Figure size 432x288 with 1 Axes>"
      ]
     },
     "execution_count": 11,
     "metadata": {},
     "output_type": "execute_result"
    },
    {
     "data": {
      "image/png": "[encoded data removed]",
      "text/plain": [
       "<Figure size 432x288 with 1 Axes>"
      ]
     },
     "metadata": {
      "needs_background": "light"
     },
     "output_type": "display_data"
    },
    {
     "data": {
      "image/png": "[encoded data removed]",
      "text/plain": [
       "<Figure size 432x288 with 1 Axes>"
      ]
     },
     "metadata": {
      "needs_background": "light"
     },
     "output_type": "display_data"
    }
   ],
   "source": [
    "plot_pacf(simulated_wind_model_data)\n",
    "plot_acf(simulated_wind_model_data)"
   ]
  },
  {
   "cell_type": "code",
   "execution_count": 12,
   "id": "9736aa62",
   "metadata": {},
   "outputs": [
    {
     "data": {
      "image/png": "[encoded data removed]",
      "text/plain": [
       "<Figure size 864x576 with 2 Axes>"
      ]
     },
     "metadata": {
      "needs_background": "light"
     },
     "output_type": "display_data"
    }
   ],
   "source": [
    "fig = plt.figure(figsize=(12, 8))\n",
    "ax1 = fig.add_subplot(211)\n",
    "fig = sm.graphics.tsa.plot_acf(rwind.values.squeeze(), lags=(1, 2, 3), ax=ax1)\n",
    "ax2 = fig.add_subplot(212)\n",
    "fig = sm.graphics.tsa.plot_pacf(rwind, lags=(1, 2), ax=ax2)"
   ]
  },
  {
   "cell_type": "code",
   "execution_count": 13,
   "id": "1b3f5b66",
   "metadata": {},
   "outputs": [
    {
     "data": {
      "text/plain": [
       "0       1.78010\n",
       "1       1.85681\n",
       "2       1.89714\n",
       "3       2.02640\n",
       "4       2.16909\n",
       "         ...   \n",
       "8755    4.74974\n",
       "8756    4.85766\n",
       "8757    4.89950\n",
       "8758    4.93751\n",
       "8759    4.96058\n",
       "Name: Wspd (m/s), Length: 8760, dtype: float64"
      ]
     },
     "execution_count": 13,
     "metadata": {},
     "output_type": "execute_result"
    }
   ],
   "source": [
    "y = rwind['Wspd (m/s)']\n",
    "y"
   ]
  },
  {
   "cell_type": "code",
   "execution_count": 14,
   "id": "aeafa0dd",
   "metadata": {},
   "outputs": [
    {
     "ename": "ValueError",
     "evalue": "You must specify a period or x must be a pandas object with a DatetimeIndex with a freq not set to None",
     "output_type": "error",
     "traceback": [
      "\u001b[1;31m---------------------------------------------------------------------------\u001b[0m",
      "\u001b[1;31mValueError\u001b[0m                                Traceback (most recent call last)",
      "\u001b[1;32m~\\AppData\\Local\\Temp/ipykernel_6064/3948233848.py\u001b[0m in \u001b[0;36m<module>\u001b[1;34m\u001b[0m\n\u001b[0;32m      1\u001b[0m \u001b[1;32mfrom\u001b[0m \u001b[0mpylab\u001b[0m \u001b[1;32mimport\u001b[0m \u001b[0mrcParams\u001b[0m\u001b[1;33m\u001b[0m\u001b[1;33m\u001b[0m\u001b[0m\n\u001b[0;32m      2\u001b[0m \u001b[0mrcParams\u001b[0m\u001b[1;33m[\u001b[0m\u001b[1;34m'figure.figsize'\u001b[0m\u001b[1;33m]\u001b[0m \u001b[1;33m=\u001b[0m \u001b[1;36m18\u001b[0m\u001b[1;33m,\u001b[0m \u001b[1;36m8\u001b[0m\u001b[1;33m\u001b[0m\u001b[1;33m\u001b[0m\u001b[0m\n\u001b[1;32m----> 3\u001b[1;33m \u001b[0mdecomposition\u001b[0m \u001b[1;33m=\u001b[0m \u001b[0msm\u001b[0m\u001b[1;33m.\u001b[0m\u001b[0mtsa\u001b[0m\u001b[1;33m.\u001b[0m\u001b[0mseasonal_decompose\u001b[0m\u001b[1;33m(\u001b[0m\u001b[0my\u001b[0m\u001b[1;33m,\u001b[0m \u001b[0mmodel\u001b[0m \u001b[1;33m=\u001b[0m\u001b[1;34m\"additive\"\u001b[0m\u001b[1;33m)\u001b[0m\u001b[1;31m#tsa for doing time series analysis\u001b[0m\u001b[1;33m\u001b[0m\u001b[1;33m\u001b[0m\u001b[0m\n\u001b[0m\u001b[0;32m      4\u001b[0m \u001b[0mfig\u001b[0m \u001b[1;33m=\u001b[0m \u001b[0mdecomposition\u001b[0m\u001b[1;33m.\u001b[0m\u001b[0mplot\u001b[0m\u001b[1;33m(\u001b[0m\u001b[1;33m)\u001b[0m\u001b[1;33m\u001b[0m\u001b[1;33m\u001b[0m\u001b[0m\n\u001b[0;32m      5\u001b[0m \u001b[0mplt\u001b[0m\u001b[1;33m.\u001b[0m\u001b[0mshow\u001b[0m\u001b[1;33m(\u001b[0m\u001b[1;33m)\u001b[0m\u001b[1;33m\u001b[0m\u001b[1;33m\u001b[0m\u001b[0m\n",
      "\u001b[1;32m~\\anaconda3\\lib\\site-packages\\pandas\\util\\_decorators.py\u001b[0m in \u001b[0;36mwrapper\u001b[1;34m(*args, **kwargs)\u001b[0m\n\u001b[0;32m    205\u001b[0m                 \u001b[1;32melse\u001b[0m\u001b[1;33m:\u001b[0m\u001b[1;33m\u001b[0m\u001b[1;33m\u001b[0m\u001b[0m\n\u001b[0;32m    206\u001b[0m                     \u001b[0mkwargs\u001b[0m\u001b[1;33m[\u001b[0m\u001b[0mnew_arg_name\u001b[0m\u001b[1;33m]\u001b[0m \u001b[1;33m=\u001b[0m \u001b[0mnew_arg_value\u001b[0m\u001b[1;33m\u001b[0m\u001b[1;33m\u001b[0m\u001b[0m\n\u001b[1;32m--> 207\u001b[1;33m             \u001b[1;32mreturn\u001b[0m \u001b[0mfunc\u001b[0m\u001b[1;33m(\u001b[0m\u001b[1;33m*\u001b[0m\u001b[0margs\u001b[0m\u001b[1;33m,\u001b[0m \u001b[1;33m**\u001b[0m\u001b[0mkwargs\u001b[0m\u001b[1;33m)\u001b[0m\u001b[1;33m\u001b[0m\u001b[1;33m\u001b[0m\u001b[0m\n\u001b[0m\u001b[0;32m    208\u001b[0m \u001b[1;33m\u001b[0m\u001b[0m\n\u001b[0;32m    209\u001b[0m         \u001b[1;32mreturn\u001b[0m \u001b[0mcast\u001b[0m\u001b[1;33m(\u001b[0m\u001b[0mF\u001b[0m\u001b[1;33m,\u001b[0m \u001b[0mwrapper\u001b[0m\u001b[1;33m)\u001b[0m\u001b[1;33m\u001b[0m\u001b[1;33m\u001b[0m\u001b[0m\n",
      "\u001b[1;32m~\\anaconda3\\lib\\site-packages\\statsmodels\\tsa\\seasonal.py\u001b[0m in \u001b[0;36mseasonal_decompose\u001b[1;34m(x, model, filt, period, two_sided, extrapolate_trend)\u001b[0m\n\u001b[0;32m    141\u001b[0m             \u001b[0mperiod\u001b[0m \u001b[1;33m=\u001b[0m \u001b[0mpfreq\u001b[0m\u001b[1;33m\u001b[0m\u001b[1;33m\u001b[0m\u001b[0m\n\u001b[0;32m    142\u001b[0m         \u001b[1;32melse\u001b[0m\u001b[1;33m:\u001b[0m\u001b[1;33m\u001b[0m\u001b[1;33m\u001b[0m\u001b[0m\n\u001b[1;32m--> 143\u001b[1;33m             raise ValueError(\"You must specify a period or x must be a \"\n\u001b[0m\u001b[0;32m    144\u001b[0m                              \u001b[1;34m\"pandas object with a DatetimeIndex with \"\u001b[0m\u001b[1;33m\u001b[0m\u001b[1;33m\u001b[0m\u001b[0m\n\u001b[0;32m    145\u001b[0m                              \"a freq not set to None\")\n",
      "\u001b[1;31mValueError\u001b[0m: You must specify a period or x must be a pandas object with a DatetimeIndex with a freq not set to None"
     ]
    }
   ],
   "source": [
    "from pylab import rcParams\n",
    "rcParams['figure.figsize'] = 18, 8\n",
    "decomposition = sm.tsa.seasonal_decompose(y, model =\"additive\")#tsa for doing time series analysis\n",
    "fig = decomposition.plot()\n",
    "plt.show()\n"
   ]
  },
  {
   "cell_type": "code",
   "execution_count": null,
   "id": "b786bff4",
   "metadata": {},
   "outputs": [],
   "source": [
    "Seasonality = seasonal_decompose(rwind, model=\"multiplicative\")\n",
    "Seasonal_values = Seasonality.seasonal"
   ]
  },
  {
   "cell_type": "code",
   "execution_count": 15,
   "id": "f3e65b57",
   "metadata": {},
   "outputs": [
    {
     "data": {
      "image/png": "[encoded data removed]",
      "text/plain": [
       "<Figure size 1296x576 with 1 Axes>"
      ]
     },
     "metadata": {
      "needs_background": "light"
     },
     "output_type": "display_data"
    }
   ],
   "source": [
    "rwindData_plot= rwind[8737:8760]\n",
    "plt.plot(rwindData_plot)\n",
    "plt.title('Hourly wind speed')\n",
    "plt.xlabel('Speed (m/s)', color = 'c')\n",
    "plt.ylabel('Time (hour)', color = 'r')\n",
    "plt.legend([\"Predicted\",\"Actual\",\"Location\",\"best\"],loc =\"upper left\")\n",
    "plt.show()"
   ]
  },
  {
   "cell_type": "code",
   "execution_count": null,
   "id": "a4782c41",
   "metadata": {},
   "outputs": [],
   "source": []
  }
 ],
 "metadata": {
  "kernelspec": {
   "display_name": "Python 3 (ipykernel)",
   "language": "python",
   "name": "python3"
  },
  "language_info": {
   "codemirror_mode": {
    "name": "ipython",
    "version": 3
   },
   "file_extension": ".py",
   "mimetype": "text/x-python",
   "name": "python",
   "nbconvert_exporter": "python",
   "pygments_lexer": "ipython3",
   "version": "3.9.7"
  }
 },
 "nbformat": 4,
 "nbformat_minor": 5
}

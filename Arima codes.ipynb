{
 "cells": [
  {
   "cell_type": "code",
   "execution_count": 2,
   "id": "70db896f",
   "metadata": {},
   "outputs": [],
   "source": [
    "import pandas as pd\n",
    "import scipy.io\n",
    "import numpy as np\n",
    "from scipy.io import loadmat \n",
    "import matplotlib.pyplot as plt\n",
    "import seaborn as sns\n"
   ]
  },
  {
   "cell_type": "code",
   "execution_count": 5,
   "id": "5708519e",
   "metadata": {},
   "outputs": [
    {
     "data": {
      "text/plain": [
       "{'__header__': b'MATLAB 5.0 MAT-file, Platform: PCWIN64, Created on: Wed Sep  9 01:37:51 2020',\n",
       " '__version__': '1.0',\n",
       " '__globals__': [],\n",
       " 'C': array([[28]], dtype=uint8),\n",
       " 'R': array([[366]], dtype=uint16),\n",
       " 'dataH': array([[31536.17021277, 32347.87234043, 31190.42553191, ...,\n",
       "         37008.5106383 , 34830.85106383, 32798.93617021],\n",
       "        [30367.0212766 , 30376.59574468, 29423.40425532, ...,\n",
       "         42287.23404255, 39265.95744681, 35678.72340426],\n",
       "        [32331.91489362, 31639.36170213, 30718.08510638, ...,\n",
       "         47100.        , 43251.06382979, 38646.80851064],\n",
       "        ...,\n",
       "        [31554.83870968, 30812.90322581, 29663.44086022, ...,\n",
       "         40117.20430108, 37294.62365591, 34575.2688172 ],\n",
       "        [32122.58064516, 31347.31182796, 30019.35483871, ...,\n",
       "         39926.88172043, 37238.70967742, 34634.40860215],\n",
       "        [31458.06451613, 30688.17204301, 29443.01075269, ...,\n",
       "         38386.02150538, 35521.50537634, 33469.89247312]]),\n",
       " 'dataHarray': array([[31536.17021277, 32347.87234043, 31190.42553191, ...,\n",
       "         38386.02150538, 35521.50537634, 33469.89247312]]),\n",
       " 'dataHourly': array([[2.01200000e+03, 1.00000000e+00, 1.00000000e+00, ...,\n",
       "         3.70085106e+04, 3.48308511e+04, 3.27989362e+04],\n",
       "        [2.01200000e+03, 1.00000000e+00, 2.00000000e+00, ...,\n",
       "         4.22872340e+04, 3.92659574e+04, 3.56787234e+04],\n",
       "        [2.01200000e+03, 1.00000000e+00, 3.00000000e+00, ...,\n",
       "         4.71000000e+04, 4.32510638e+04, 3.86468085e+04],\n",
       "        ...,\n",
       "        [2.01200000e+03, 1.20000000e+01, 2.90000000e+01, ...,\n",
       "         4.01172043e+04, 3.72946237e+04, 3.45752688e+04],\n",
       "        [2.01200000e+03, 1.20000000e+01, 3.00000000e+01, ...,\n",
       "         3.99268817e+04, 3.72387097e+04, 3.46344086e+04],\n",
       "        [2.01200000e+03, 1.20000000e+01, 3.10000000e+01, ...,\n",
       "         3.83860215e+04, 3.55215054e+04, 3.34698925e+04]]),\n",
       " 'dataL': array([[2.0120e+03, 1.0000e+00, 1.0000e+00, ..., 3.4788e+04, 3.2741e+04,\n",
       "         3.0831e+04],\n",
       "        [2.0120e+03, 1.0000e+00, 2.0000e+00, ..., 3.9750e+04, 3.6910e+04,\n",
       "         3.3538e+04],\n",
       "        [2.0120e+03, 1.0000e+00, 3.0000e+00, ..., 4.4274e+04, 4.0656e+04,\n",
       "         3.6328e+04],\n",
       "        ...,\n",
       "        [2.0120e+03, 1.2000e+01, 2.9000e+01, ..., 3.7309e+04, 3.4684e+04,\n",
       "         3.2155e+04],\n",
       "        [2.0120e+03, 1.2000e+01, 3.0000e+01, ..., 3.7132e+04, 3.4632e+04,\n",
       "         3.2210e+04],\n",
       "        [2.0120e+03, 1.2000e+01, 3.1000e+01, ..., 3.5699e+04, 3.3035e+04,\n",
       "         3.1127e+04]]),\n",
       " 'i': array([[28]], dtype=uint8)}"
      ]
     },
     "execution_count": 5,
     "metadata": {},
     "output_type": "execute_result"
    }
   ],
   "source": [
    "#loading of data\n",
    "\n",
    "data = loadmat(\"Hourly Data2012.mat\")\n",
    "#columns = [n for n, v in ndata.iteritems() if v.size == ndata['Hourly']]\n",
    "#data = pd.DataFrame(np.concatenate([data[c] for c in columns], axis=1),\n",
    "                  #index=[datetime(*ts) for ts in data['Hourly Data2012.mat']],\n",
    "                  #columns=columns)\n",
    "data"
   ]
  },
  {
   "cell_type": "code",
   "execution_count": null,
   "id": "f95ac638",
   "metadata": {},
   "outputs": [],
   "source": [
    "changed_data = [[row.flat[0] for row in line] for line in data[''][0]]\n",
    "columns = [‘bbox_x1’, ‘bbox_y1’, ‘bbox_x2’, ‘bbox_y2’, ‘class’, ‘fname’]\n",
    "df_train = pd.DataFrame(data, columns=columns)"
   ]
  },
  {
   "cell_type": "code",
   "execution_count": null,
   "id": "22edf150",
   "metadata": {},
   "outputs": [],
   "source": []
  }
 ],
 "metadata": {
  "kernelspec": {
   "display_name": "Python 3 (ipykernel)",
   "language": "python",
   "name": "python3"
  },
  "language_info": {
   "codemirror_mode": {
    "name": "ipython",
    "version": 3
   },
   "file_extension": ".py",
   "mimetype": "text/x-python",
   "name": "python",
   "nbconvert_exporter": "python",
   "pygments_lexer": "ipython3",
   "version": "3.9.7"
  }
 },
 "nbformat": 4,
 "nbformat_minor": 5
}
